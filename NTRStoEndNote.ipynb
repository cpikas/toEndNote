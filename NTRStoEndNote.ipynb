{
 "cells": [
  {
   "cell_type": "markdown",
   "metadata": {},
   "source": [
    "# To EndNote Tab Del From NTRS"
   ]
  },
  {
   "cell_type": "markdown",
   "metadata": {},
   "source": [
    "This takes a CSV export from NTRS (https://ntrs.nasa.gov/) and converts it to tab delimited EndNote 9 format"
   ]
  },
  {
   "cell_type": "code",
   "execution_count": null,
   "metadata": {},
   "outputs": [],
   "source": [
    "import pandas as pd\n",
    "import re"
   ]
  },
  {
   "cell_type": "code",
   "execution_count": null,
   "metadata": {},
   "outputs": [],
   "source": [
    "#open ntrs export\n",
    "ntrs = pd.read_csv(\"nasaexport2.csv\")\n",
    "#any absolutely blank column may screw up import\n",
    "ntrs = ntrs.fillna(\" \")\n",
    "ntrs"
   ]
  },
  {
   "cell_type": "code",
   "execution_count": null,
   "metadata": {},
   "outputs": [],
   "source": [
    "#update the delimiter within the keyword field, make the terms lowercase\n",
    "kw = [re.sub(\";\", \"//\", x) for x in ntrs['NASA Terms']]\n",
    "kw = [x.lower() for x in kw]\n",
    "kw"
   ]
  },
  {
   "cell_type": "code",
   "execution_count": null,
   "metadata": {},
   "outputs": [],
   "source": [
    "#same for author\n",
    "au = [re.sub(\" and \",\"//\", x) for x in ntrs['Author']]\n",
    "au"
   ]
  },
  {
   "cell_type": "code",
   "execution_count": null,
   "metadata": {},
   "outputs": [],
   "source": [
    "endnote = pd.DataFrame()\n",
    "endnote['URL'] = ntrs['NTRS Link']\n",
    "endnote['Author'] = au\n",
    "endnote['Year'] = ntrs['Publication Date']\n",
    "endnote['Title'] = ntrs['Title']\n",
    "endnote['ISBN/ISSN'] = ntrs['Report/Patent Number']\n",
    "endnote['Custom 1'] = ntrs['Document ID']\n",
    "endnote['Custom 2'] = ntrs['Document Type']\n",
    "endnote['Custom 3'] = ntrs['Contract/Grant/Task Num']\n",
    "endnote['Keywords'] = kw\n",
    "endnote['Author Address'] = ntrs['NASA Center']\n",
    "endnote['Abstract'] = ntrs['Abstract']\n",
    "\n",
    "endnote\n"
   ]
  },
  {
   "cell_type": "code",
   "execution_count": null,
   "metadata": {},
   "outputs": [],
   "source": [
    "#add in the column for Reference Type - needs to appear first\n",
    "endnote.insert(0, 'Reference Type', 'Report')\n",
    "endnote"
   ]
  },
  {
   "cell_type": "code",
   "execution_count": null,
   "metadata": {},
   "outputs": [],
   "source": [
    "#have to add this header above columns to have it import correctly\n",
    "endnote_header = \"*Generic\\n\"\n"
   ]
  },
  {
   "cell_type": "code",
   "execution_count": null,
   "metadata": {},
   "outputs": [],
   "source": [
    "#create filename with automatic name for date and time to try not to overwrite\n",
    "import datetime\n",
    "today = datetime.datetime.now()\n",
    "datepart = today.strftime(\"%Y%m%d%H%M\")\n",
    "filename = \"ntrs-endnote\" + datepart + \".txt\"\n",
    "print(filename)"
   ]
  },
  {
   "cell_type": "code",
   "execution_count": null,
   "metadata": {},
   "outputs": [],
   "source": [
    "file_out = open(filename,'w')\n",
    "\n",
    "file_out.write(endnote_header)\n",
    "\n",
    "file_out.close()\n",
    "\n",
    "\n",
    "endnote.to_csv(filename,sep='\\t', index=False ,mode='a')"
   ]
  }
 ],
 "metadata": {
  "kernelspec": {
   "display_name": "Python 3",
   "language": "python",
   "name": "python3"
  },
  "language_info": {
   "codemirror_mode": {
    "name": "ipython",
    "version": 3
   },
   "file_extension": ".py",
   "mimetype": "text/x-python",
   "name": "python",
   "nbconvert_exporter": "python",
   "pygments_lexer": "ipython3",
   "version": "3.6.5"
  }
 },
 "nbformat": 4,
 "nbformat_minor": 2
}
